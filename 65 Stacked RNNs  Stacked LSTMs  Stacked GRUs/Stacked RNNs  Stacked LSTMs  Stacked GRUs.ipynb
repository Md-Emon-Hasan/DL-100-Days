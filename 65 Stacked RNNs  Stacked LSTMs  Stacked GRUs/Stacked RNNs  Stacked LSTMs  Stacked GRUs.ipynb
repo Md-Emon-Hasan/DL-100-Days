{
 "cells": [
  {
   "cell_type": "code",
   "execution_count": 1,
   "metadata": {},
   "outputs": [],
   "source": [
    "import tensorflow as tf\n",
    "from keras.datasets import imdb\n",
    "from keras.preprocessing.sequence import pad_sequences\n",
    "from keras.models import Sequential\n",
    "from keras.layers import Embedding\n",
    "from keras.layers import SimpleRNN\n",
    "from keras.layers import Dense\n",
    "from keras.layers import LSTM\n",
    "from keras.layers import GRU"
   ]
  },
  {
   "cell_type": "code",
   "execution_count": 2,
   "metadata": {},
   "outputs": [],
   "source": [
    "# load the IMDB dataset\n",
    "(x_train,y_train),(x_test,y_test) = imdb.load_data(num_words=10000)"
   ]
  },
  {
   "cell_type": "code",
   "execution_count": 3,
   "metadata": {},
   "outputs": [],
   "source": [
    "# pad sequneces to have the same length\n",
    "x_train = pad_sequences(x_train,maxlen=100)\n",
    "x_test = pad_sequences(x_test,maxlen=100)"
   ]
  },
  {
   "cell_type": "code",
   "execution_count": 4,
   "metadata": {},
   "outputs": [
    {
     "name": "stdout",
     "output_type": "stream",
     "text": [
      "Model: \"sequential\"\n",
      "_________________________________________________________________\n",
      " Layer (type)                Output Shape              Param #   \n",
      "=================================================================\n",
      " embedding (Embedding)       (None, 100, 32)           320000    \n",
      "                                                                 \n",
      " simple_rnn (SimpleRNN)      (None, 100, 5)            190       \n",
      "                                                                 \n",
      " simple_rnn_1 (SimpleRNN)    (None, 5)                 55        \n",
      "                                                                 \n",
      " dense (Dense)               (None, 1)                 6         \n",
      "                                                                 \n",
      "=================================================================\n",
      "Total params: 320251 (1.22 MB)\n",
      "Trainable params: 320251 (1.22 MB)\n",
      "Non-trainable params: 0 (0.00 Byte)\n",
      "_________________________________________________________________\n"
     ]
    }
   ],
   "source": [
    "# define the RNN model\n",
    "model = Sequential([\n",
    "    Embedding(10000,32,input_length=100),\n",
    "    SimpleRNN(5,return_sequences=True),\n",
    "    SimpleRNN(5),\n",
    "    Dense(1,activation='sigmoid')\n",
    "])\n",
    "\n",
    "model.summary()"
   ]
  },
  {
   "cell_type": "code",
   "execution_count": 5,
   "metadata": {},
   "outputs": [
    {
     "name": "stdout",
     "output_type": "stream",
     "text": [
      "Model: \"sequential_1\"\n",
      "_________________________________________________________________\n",
      " Layer (type)                Output Shape              Param #   \n",
      "=================================================================\n",
      " embedding_1 (Embedding)     (None, 100, 32)           320000    \n",
      "                                                                 \n",
      " lstm (LSTM)                 (None, 100, 5)            760       \n",
      "                                                                 \n",
      " lstm_1 (LSTM)               (None, 5)                 220       \n",
      "                                                                 \n",
      " dense_1 (Dense)             (None, 1)                 6         \n",
      "                                                                 \n",
      "=================================================================\n",
      "Total params: 320986 (1.22 MB)\n",
      "Trainable params: 320986 (1.22 MB)\n",
      "Non-trainable params: 0 (0.00 Byte)\n",
      "_________________________________________________________________\n"
     ]
    }
   ],
   "source": [
    "# Define the LSTM model\n",
    "model = Sequential([\n",
    "    Embedding(10000,32,input_length=100),\n",
    "    LSTM(5,return_sequences=True),\n",
    "    LSTM(5),\n",
    "    Dense(1,activation='sigmoid')\n",
    "])\n",
    "\n",
    "model.summary()"
   ]
  },
  {
   "cell_type": "code",
   "execution_count": 6,
   "metadata": {},
   "outputs": [
    {
     "name": "stdout",
     "output_type": "stream",
     "text": [
      "Model: \"sequential_2\"\n",
      "_________________________________________________________________\n",
      " Layer (type)                Output Shape              Param #   \n",
      "=================================================================\n",
      " embedding_2 (Embedding)     (None, 100, 32)           320000    \n",
      "                                                                 \n",
      " gru (GRU)                   (None, 100, 5)            585       \n",
      "                                                                 \n",
      " gru_1 (GRU)                 (None, 5)                 180       \n",
      "                                                                 \n",
      " dense_2 (Dense)             (None, 1)                 6         \n",
      "                                                                 \n",
      "=================================================================\n",
      "Total params: 320771 (1.22 MB)\n",
      "Trainable params: 320771 (1.22 MB)\n",
      "Non-trainable params: 0 (0.00 Byte)\n",
      "_________________________________________________________________\n"
     ]
    }
   ],
   "source": [
    "# define the GRU model\n",
    "model = Sequential([\n",
    "    Embedding(10000,32,input_length=100),\n",
    "    GRU(5,return_sequences=True),\n",
    "    GRU(5),\n",
    "    Dense(1,activation='sigmoid')\n",
    "])\n",
    "\n",
    "model.summary()"
   ]
  },
  {
   "cell_type": "code",
   "execution_count": 7,
   "metadata": {},
   "outputs": [],
   "source": [
    "# compile the model\n",
    "model.compile(optimizer='adam',loss='binary_crossentropy',metrics=['accuracy'])"
   ]
  },
  {
   "cell_type": "code",
   "execution_count": 8,
   "metadata": {},
   "outputs": [
    {
     "name": "stdout",
     "output_type": "stream",
     "text": [
      "Epoch 1/5\n",
      "625/625 [==============================] - 41s 54ms/step - loss: 0.4777 - accuracy: 0.7664 - val_loss: 0.3711 - val_accuracy: 0.8424\n",
      "Epoch 2/5\n",
      "625/625 [==============================] - 26s 42ms/step - loss: 0.2851 - accuracy: 0.8884 - val_loss: 0.3672 - val_accuracy: 0.8456\n",
      "Epoch 3/5\n",
      "625/625 [==============================] - 27s 43ms/step - loss: 0.2149 - accuracy: 0.9199 - val_loss: 0.3802 - val_accuracy: 0.8414\n",
      "Epoch 4/5\n",
      "625/625 [==============================] - 27s 43ms/step - loss: 0.1640 - accuracy: 0.9445 - val_loss: 0.4230 - val_accuracy: 0.8388\n",
      "Epoch 5/5\n",
      "625/625 [==============================] - 39s 62ms/step - loss: 0.1232 - accuracy: 0.9603 - val_loss: 0.4867 - val_accuracy: 0.8330\n"
     ]
    }
   ],
   "source": [
    "# train the model\n",
    "history = model.fit(x_train,y_train,epochs=5,batch_size=32,validation_split=0.2)"
   ]
  }
 ],
 "metadata": {
  "kernelspec": {
   "display_name": "Python 3",
   "language": "python",
   "name": "python3"
  },
  "language_info": {
   "codemirror_mode": {
    "name": "ipython",
    "version": 3
   },
   "file_extension": ".py",
   "mimetype": "text/x-python",
   "name": "python",
   "nbconvert_exporter": "python",
   "pygments_lexer": "ipython3",
   "version": "3.11.4"
  },
  "orig_nbformat": 4
 },
 "nbformat": 4,
 "nbformat_minor": 2
}
